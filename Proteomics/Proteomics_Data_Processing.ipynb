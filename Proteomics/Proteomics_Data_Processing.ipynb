{
 "cells": [
  {
   "cell_type": "markdown",
   "id": "7eaa4f3d",
   "metadata": {},
   "source": [
    "**Import Libraries**"
   ]
  },
  {
   "cell_type": "code",
   "execution_count": null,
   "id": "74725e91",
   "metadata": {
    "vscode": {
     "languageId": "r"
    }
   },
   "outputs": [],
   "source": [
    "import pandas as pd\n",
    "pd.options.mode.chained_assignment = None  # default='warn'\n",
    "import numpy as np\n",
    "import sys\n",
    "import os\n",
    "import padua\n",
    "import matplotlib.pyplot as plt\n",
    "import seaborn as sns\n",
    "import platform\n",
    "import scipy\n",
    "import matplotlib.patches as mpatches"
   ]
  },
  {
   "cell_type": "markdown",
   "id": "1748a956",
   "metadata": {},
   "source": [
    "**Data Input**"
   ]
  },
  {
   "cell_type": "code",
   "execution_count": null,
   "id": "f88db937",
   "metadata": {
    "vscode": {
     "languageId": "r"
    }
   },
   "outputs": [],
   "source": [
    "os.chdir(dir)\n",
    "proteinGroups = padua.io.read_maxquant('proteinGroups.txt', low_memory = False)"
   ]
  },
  {
   "cell_type": "markdown",
   "id": "65632910",
   "metadata": {},
   "source": [
    "**Select Columns**"
   ]
  },
  {
   "cell_type": "code",
   "execution_count": 51,
   "id": "97404b7c",
   "metadata": {
    "vscode": {
     "languageId": "r"
    }
   },
   "outputs": [],
   "source": [
    "# Save column-names to list\n",
    "lscol = list(proteinGroups.columns)\n",
    "\n",
    "# Create list with extracted LFQ-names\n",
    "sub = ['LFQ']\n",
    "colselect = []\n",
    "collfq = []\n",
    "for i in range(0,len(sub)):\n",
    "    for text in lscol:\n",
    "        if sub[i] in text:\n",
    "            colselect.append(text)\n",
    "            collfq.append(text)\n",
    " \n",
    "# Extend list with additional column-names\n",
    "ext = ['Only identified by site', 'Reverse', 'Potential contaminant','Protein IDs',\n",
    "                  'Majority protein IDs', 'Peptide counts (all)',\n",
    "                 'Number of proteins']\n",
    "\n",
    "colselect.extend(ext)\n",
    "\n",
    "# Select columns from this list\n",
    "proteinGroups = proteinGroups[colselect]\n",
    "old = collfq.copy()"
   ]
  },
  {
   "cell_type": "code",
   "execution_count": null,
   "id": "e0faa123",
   "metadata": {
    "vscode": {
     "languageId": "r"
    }
   },
   "outputs": [],
   "source": [
    "len(proteinGroups)"
   ]
  },
  {
   "cell_type": "markdown",
   "id": "d6b623a1",
   "metadata": {},
   "source": [
    "**Rename LFQ Columns**"
   ]
  },
  {
   "cell_type": "code",
   "execution_count": 53,
   "id": "4d721a6d",
   "metadata": {
    "vscode": {
     "languageId": "r"
    }
   },
   "outputs": [],
   "source": [
    "colnew = collfq\n",
    "for i in range(0,len(collfq)):\n",
    "    colnew[i] = str(collfq[i].split('_')[3]).replace(\"F\", \"\" )+'_'+str(collfq[i].split('_')[5])\n",
    "new = colnew.copy()"
   ]
  },
  {
   "cell_type": "code",
   "execution_count": 54,
   "id": "9829b056",
   "metadata": {
    "vscode": {
     "languageId": "r"
    }
   },
   "outputs": [],
   "source": [
    "colnew.sort()"
   ]
  },
  {
   "cell_type": "code",
   "execution_count": 55,
   "id": "7a32ff94",
   "metadata": {
    "vscode": {
     "languageId": "r"
    }
   },
   "outputs": [],
   "source": [
    "gr1, gr2, gr3 = colnew[0:4], colnew[4:8], colnew[8:12]"
   ]
  },
  {
   "cell_type": "code",
   "execution_count": 56,
   "id": "e492904a",
   "metadata": {
    "vscode": {
     "languageId": "r"
    }
   },
   "outputs": [],
   "source": [
    "for i in range(0,len(old)):\n",
    "    proteinGroups = proteinGroups.rename(columns={old[i]: new[i]})"
   ]
  },
  {
   "cell_type": "markdown",
   "id": "0aeba872",
   "metadata": {},
   "source": [
    "**Re-order**"
   ]
  },
  {
   "cell_type": "code",
   "execution_count": 57,
   "id": "9b33ea71",
   "metadata": {
    "vscode": {
     "languageId": "r"
    }
   },
   "outputs": [],
   "source": [
    "proteinGroups = proteinGroups[gr1+gr2+gr3+ext]"
   ]
  },
  {
   "cell_type": "markdown",
   "id": "50cd5b86",
   "metadata": {},
   "source": [
    "**Filtering**"
   ]
  },
  {
   "cell_type": "code",
   "execution_count": 58,
   "id": "57701ada",
   "metadata": {
    "vscode": {
     "languageId": "r"
    }
   },
   "outputs": [],
   "source": [
    "# Only proteins with at least 2 peptides identified with the first protein in the groups\n",
    "for j in range(0,len(proteinGroups)):\n",
    "    if int(proteinGroups['Peptide counts (all)'].loc[j].split(';')[0]) >= 2:\n",
    "        pass\n",
    "    else:\n",
    "        proteinGroups = proteinGroups.drop([j])\n",
    "proteinGroups = proteinGroups.reset_index(drop = True)"
   ]
  },
  {
   "cell_type": "code",
   "execution_count": null,
   "id": "211812d4",
   "metadata": {
    "vscode": {
     "languageId": "r"
    }
   },
   "outputs": [],
   "source": [
    "len(proteinGroups)"
   ]
  },
  {
   "cell_type": "code",
   "execution_count": 60,
   "id": "59e58109",
   "metadata": {
    "vscode": {
     "languageId": "r"
    }
   },
   "outputs": [],
   "source": [
    "# Exclude potential contaminant, reverse, only identified by site\n",
    "proteinGroups = proteinGroups[proteinGroups['Potential contaminant']!='+']\n",
    "proteinGroups = proteinGroups[proteinGroups['Only identified by site']!='+']\n",
    "proteinGroups = proteinGroups[proteinGroups['Reverse']!='+']\n",
    "proteinGroups = proteinGroups.reset_index(drop = True)"
   ]
  },
  {
   "cell_type": "code",
   "execution_count": null,
   "id": "1e3156b3",
   "metadata": {
    "vscode": {
     "languageId": "r"
    }
   },
   "outputs": [],
   "source": [
    "len(proteinGroups)"
   ]
  },
  {
   "cell_type": "code",
   "execution_count": 62,
   "id": "19f9944d",
   "metadata": {
    "vscode": {
     "languageId": "r"
    }
   },
   "outputs": [],
   "source": [
    "# Only keep Proteins which have at least 50% valid values in at least one group\n",
    "for j in range(0,len(proteinGroups)):\n",
    "    x = 0\n",
    "    y = 0\n",
    "    z = 0\n",
    "    for k in range(0,len(gr1)):\n",
    "        if proteinGroups[gr1[k]].loc[j] != 0:\n",
    "            x += 1\n",
    "    for k in range(0,len(gr2)):\n",
    "        if proteinGroups[gr2[k]].loc[j] != 0:\n",
    "            y += 1\n",
    "    for k in range(0,len(gr3)):\n",
    "        if proteinGroups[gr3[k]].loc[j] != 0:\n",
    "            z += 1\n",
    "    if x >= len(gr1)/2 or y >= len(gr2)/2 or z >= len(gr3)/2:\n",
    "        pass\n",
    "    else:\n",
    "        proteinGroups = proteinGroups.drop([j])\n",
    "        \n",
    "proteinGroups = proteinGroups.reset_index(drop = True)"
   ]
  },
  {
   "cell_type": "code",
   "execution_count": null,
   "id": "7b1358c1",
   "metadata": {
    "vscode": {
     "languageId": "r"
    }
   },
   "outputs": [],
   "source": [
    "len(proteinGroups)"
   ]
  },
  {
   "cell_type": "code",
   "execution_count": null,
   "id": "f6f65865",
   "metadata": {
    "vscode": {
     "languageId": "r"
    }
   },
   "outputs": [],
   "source": [
    "# Ensure that at first position of column 'Majority protein IDs' is a HUMAN protein\n",
    "# Replace with second place if necessary\n",
    "# Exclude if no HUMAN protein at all available\n",
    "for i in range(0,len(proteinGroups)):\n",
    "    if 'HUMAN' in proteinGroups['Majority protein IDs'].loc[i]:\n",
    "        if 'HUMAN' in proteinGroups['Majority protein IDs'].loc[i].split(';')[0]:\n",
    "            pass\n",
    "        else:\n",
    "            xx = proteinGroups['Majority protein IDs'].loc[i].split(';')[1]\n",
    "            if 'HUMAN' in xx:\n",
    "                proteinGroups['Majority protein IDs'].loc[i] = xx\n",
    "            else:\n",
    "                print('ERROR: index ',i,' second place is not a human protein')     \n",
    "    else:\n",
    "        proteinGroups = proteinGroups.drop([i])\n",
    "proteinGroups = proteinGroups.reset_index(drop = True)"
   ]
  },
  {
   "cell_type": "code",
   "execution_count": null,
   "id": "ed514812",
   "metadata": {
    "vscode": {
     "languageId": "r"
    }
   },
   "outputs": [],
   "source": [
    "len(proteinGroups)"
   ]
  },
  {
   "cell_type": "markdown",
   "id": "dbd84d13",
   "metadata": {},
   "source": [
    "**Correct protein IDs**"
   ]
  },
  {
   "cell_type": "code",
   "execution_count": 66,
   "id": "7fc2b2c8",
   "metadata": {
    "vscode": {
     "languageId": "r"
    }
   },
   "outputs": [],
   "source": [
    "n = []\n",
    "for i in range(0,len(proteinGroups)):\n",
    "    x = proteinGroups['Majority protein IDs'].loc[i]\n",
    "    x = x.split(';')[0]\n",
    "    n.append(x)\n",
    "proteinGroups['Majority protein IDs'] = n"
   ]
  },
  {
   "cell_type": "code",
   "execution_count": 67,
   "id": "af5491ae",
   "metadata": {
    "vscode": {
     "languageId": "r"
    }
   },
   "outputs": [],
   "source": [
    "proteinGroups = proteinGroups.drop(columns = ['Only identified by site', 'Reverse', 'Potential contaminant', 'Protein IDs', 'Peptide counts (all)', 'Number of proteins'])"
   ]
  },
  {
   "cell_type": "code",
   "execution_count": 68,
   "id": "af07753a",
   "metadata": {
    "vscode": {
     "languageId": "r"
    }
   },
   "outputs": [],
   "source": [
    "proteinGroups['UniProt ID'] = np.nan\n",
    "proteinGroups['Entry Name'] = np.nan\n",
    "\n",
    "for i in range(0,len(proteinGroups)):\n",
    "    x = proteinGroups['Majority protein IDs'].loc[i].split('|')\n",
    "    proteinGroups['UniProt ID'].loc[i] = x[1]\n",
    "    proteinGroups['Entry Name'].loc[i] = x[2].split('_')[0]"
   ]
  },
  {
   "cell_type": "markdown",
   "id": "5ed7d0aa",
   "metadata": {},
   "source": [
    "**Extract number of measured values per condition**"
   ]
  },
  {
   "cell_type": "code",
   "execution_count": 69,
   "id": "3d718718",
   "metadata": {
    "vscode": {
     "languageId": "r"
    }
   },
   "outputs": [],
   "source": [
    "proteinGroups['Control'] = np.nan\n",
    "proteinGroups['Group_1'] = np.nan\n",
    "proteinGroups['Group_2'] = np.nan\n",
    "\n",
    "l1 = []\n",
    "l2 = []\n",
    "l3 = []\n",
    "\n",
    "for i in range(0,len(proteinGroups)):\n",
    "    o = proteinGroups.loc[i]\n",
    "    x = 0\n",
    "    y = 0\n",
    "    z = 0\n",
    "    for k in range(0,len(gr1)):\n",
    "        if o[gr1[k]] != 0:\n",
    "            x += 1\n",
    "    for k in range(0,len(gr2)):\n",
    "        if o[gr2[k]] != 0:\n",
    "            y += 1        \n",
    "    for k in range(0,len(gr3)):\n",
    "        if o[gr3[k]] != 0:\n",
    "            z += 1          \n",
    "    l1.append(x)\n",
    "    l2.append(y)\n",
    "    l3.append(z)\n",
    "\n",
    "proteinGroups['Control'] = l1\n",
    "proteinGroups['Group_1'] = l2\n",
    "proteinGroups['Group_2'] = l3"
   ]
  },
  {
   "cell_type": "markdown",
   "id": "b790f794",
   "metadata": {},
   "source": [
    "**Background**"
   ]
  },
  {
   "cell_type": "code",
   "execution_count": 70,
   "id": "31639ee8",
   "metadata": {
    "vscode": {
     "languageId": "r"
    }
   },
   "outputs": [],
   "source": [
    "bg = list(proteinGroups['UniProt ID'])"
   ]
  },
  {
   "cell_type": "code",
   "execution_count": 71,
   "id": "630aa7f1",
   "metadata": {
    "vscode": {
     "languageId": "r"
    }
   },
   "outputs": [],
   "source": [
    "with open('Background.txt', 'w') as f:\n",
    "    for line in bg:\n",
    "        f.write(line)\n",
    "        f.write('\\n')"
   ]
  },
  {
   "cell_type": "markdown",
   "id": "20b180ab",
   "metadata": {},
   "source": [
    "**Log2 Transformation**"
   ]
  },
  {
   "cell_type": "code",
   "execution_count": 72,
   "id": "4db922be",
   "metadata": {
    "vscode": {
     "languageId": "r"
    }
   },
   "outputs": [],
   "source": [
    "for cols in gr1+gr2+gr3:\n",
    "    proteinGroups[cols] = np.log2(proteinGroups[cols])"
   ]
  },
  {
   "cell_type": "code",
   "execution_count": 73,
   "id": "7838dbca",
   "metadata": {
    "vscode": {
     "languageId": "r"
    }
   },
   "outputs": [],
   "source": [
    "proteinGroups = proteinGroups.replace(np.inf, np.nan)\n",
    "proteinGroups = proteinGroups.replace(-np.inf, np.nan)"
   ]
  },
  {
   "cell_type": "code",
   "execution_count": 74,
   "id": "a10b0264",
   "metadata": {
    "vscode": {
     "languageId": "r"
    }
   },
   "outputs": [],
   "source": [
    "proteinGroups.to_csv('Processing_Log2(X).csv')"
   ]
  },
  {
   "cell_type": "code",
   "execution_count": null,
   "id": "0dedc586",
   "metadata": {
    "vscode": {
     "languageId": "r"
    }
   },
   "outputs": [],
   "source": [
    "# Size\n",
    "sns.set(style='whitegrid', rc={'figure.figsize':(15,10)})\n",
    "\n",
    "# Iterate \n",
    "for columns in gr1+gr2+gr3:\n",
    "    # Subset to the samples\n",
    "    subset = proteinGroups[columns]\n",
    "    \n",
    "    # Draw the density plot\n",
    "    sns.distplot(subset, hist = False, kde = True,\n",
    "                 kde_kws = {'linewidth': 1},\n",
    "                 label = columns)\n",
    "    \n",
    "# Plot formatting\n",
    "plt.legend(prop={'size': 10}, title = 'Sample')\n",
    "plt.xlabel('Log2(LFQ)')\n",
    "plt.ylabel('Density')\n",
    "plt.savefig('DensityPlot_Log2(LFQ).pdf')\n",
    "plt.show()"
   ]
  },
  {
   "cell_type": "code",
   "execution_count": null,
   "id": "d5854843",
   "metadata": {
    "vscode": {
     "languageId": "r"
    }
   },
   "outputs": [],
   "source": [
    "proteinGroups[gr1+gr2+gr3].isnull().sum(axis = 0)"
   ]
  },
  {
   "cell_type": "markdown",
   "id": "cbf27af8",
   "metadata": {},
   "source": [
    "**Mean Scaling**"
   ]
  },
  {
   "cell_type": "code",
   "execution_count": null,
   "id": "fec3274f",
   "metadata": {
    "vscode": {
     "languageId": "r"
    }
   },
   "outputs": [],
   "source": [
    "allcols = gr1+gr2+gr3\n",
    "for c in allcols:\n",
    "    proteinGroups[c] = proteinGroups[c] - np.mean(proteinGroups[c])"
   ]
  },
  {
   "cell_type": "code",
   "execution_count": null,
   "id": "70399fb2",
   "metadata": {
    "vscode": {
     "languageId": "r"
    }
   },
   "outputs": [],
   "source": [
    "# Size\n",
    "sns.set(style='whitegrid', rc={'figure.figsize':(15,10)})\n",
    "\n",
    "# Iterate \n",
    "for columns in gr1+gr2+gr3:\n",
    "    # Subset to the samples\n",
    "    subset = proteinGroups[columns]\n",
    "    \n",
    "    # Draw the density plot\n",
    "    sns.distplot(subset, hist = False, kde = True,\n",
    "                 kde_kws = {'linewidth': 1},\n",
    "                 label = columns)\n",
    "    \n",
    "# Plot formatting\n",
    "plt.legend(prop={'size': 10}, title = 'Sample')\n",
    "plt.xlabel('Log2(LFQ)')\n",
    "plt.ylabel('Density')\n",
    "plt.savefig('Scaled_DensityPlot_Log2(X).pdf')\n",
    "plt.show()"
   ]
  },
  {
   "cell_type": "markdown",
   "id": "a1657952",
   "metadata": {},
   "source": [
    "**Imputation**"
   ]
  },
  {
   "cell_type": "code",
   "execution_count": 79,
   "id": "06f3e042",
   "metadata": {
    "vscode": {
     "languageId": "r"
    }
   },
   "outputs": [],
   "source": [
    "gr1_imp = [x+'_imp' for x in gr1]\n",
    "gr2_imp = [x+'_imp' for x in gr2]\n",
    "gr3_imp = [x+'_imp' for x in gr3]\n",
    "imp = gr1_imp+gr2_imp+gr3_imp\n",
    "\n",
    "gr1_imp_1 = [x+'_imp_1' for x in gr1]\n",
    "gr2_imp_1 = [x+'_imp_1' for x in gr2]\n",
    "gr3_imp_1 = [x+'_imp_1' for x in gr3]\n",
    "imp_1 = gr1_imp_1+gr2_imp_1+gr3_imp_1\n",
    "\n",
    "gr1_imp_2 = [x+'_imp_2' for x in gr1]\n",
    "gr2_imp_2 = [x+'_imp_2' for x in gr2]\n",
    "gr3_imp_2 = [x+'_imp_2' for x in gr3]\n",
    "imp_2 = gr1_imp_2+gr2_imp_2+gr3_imp_2"
   ]
  },
  {
   "cell_type": "code",
   "execution_count": 80,
   "id": "7d6f5f3c",
   "metadata": {
    "vscode": {
     "languageId": "r"
    }
   },
   "outputs": [],
   "source": [
    "for i in range(0,len(imp)):\n",
    "    proteinGroups[imp[i]] = np.nan\n",
    "    proteinGroups[imp_1[i]] = proteinGroups[colnew[i]]\n",
    "    proteinGroups[imp_2[i]] = proteinGroups[colnew[i]]"
   ]
  },
  {
   "cell_type": "code",
   "execution_count": null,
   "id": "83790407",
   "metadata": {
    "vscode": {
     "languageId": "r"
    }
   },
   "outputs": [],
   "source": [
    "# Determine how to impute\n",
    "for i in range(0,len(proteinGroups)):\n",
    "    x = proteinGroups['Control'].loc[i]\n",
    "    y = proteinGroups['Group_1'].loc[i]\n",
    "    z = proteinGroups['Group_2'].loc[i]\n",
    "    \n",
    "    \n",
    "    if x == 4:\n",
    "        for j in range(0,len(gr1)):\n",
    "            proteinGroups[gr1_imp[j]].loc[i] = 0\n",
    "    else:\n",
    "        if x == 0 or x == 1:\n",
    "            for j in range(0,len(gr1)):\n",
    "                if pd.isna(proteinGroups[gr1[j]].loc[i]) == True:\n",
    "                    proteinGroups[gr1_imp[j]].loc[i] = 2\n",
    "                else:\n",
    "                    proteinGroups[gr1_imp[j]].loc[i] = 0\n",
    "        if x == 2 or x == 3:\n",
    "            for j in range(0,len(gr1)):\n",
    "                if pd.isna(proteinGroups[gr1[j]].loc[i]) == True:\n",
    "                    proteinGroups[gr1_imp[j]].loc[i] = 1\n",
    "                else:\n",
    "                    proteinGroups[gr1_imp[j]].loc[i] = 0\n",
    "                    \n",
    "    if y == 4:\n",
    "        for j in range(0,len(gr2)):\n",
    "            proteinGroups[gr2_imp[j]].loc[i] = 0\n",
    "    else:\n",
    "        if y == 0 or y == 1:\n",
    "            for j in range(0,len(gr2)):\n",
    "                if pd.isna(proteinGroups[gr2[j]].loc[i]) == True:\n",
    "                    proteinGroups[gr2_imp[j]].loc[i] = 2\n",
    "                else:\n",
    "                    proteinGroups[gr2_imp[j]].loc[i] = 0\n",
    "        if y == 2 or y == 3:\n",
    "            for j in range(0,len(gr2)):\n",
    "                if pd.isna(proteinGroups[gr2[j]].loc[i]) == True:\n",
    "                    proteinGroups[gr2_imp[j]].loc[i] = 1\n",
    "                else:\n",
    "                    proteinGroups[gr2_imp[j]].loc[i] = 0\n",
    "                    \n",
    "    if z == 4:\n",
    "        for j in range(0,len(gr3)):\n",
    "            proteinGroups[gr3_imp[j]].loc[i] = 0\n",
    "    else:\n",
    "        if z == 0 or z == 1:\n",
    "            for j in range(0,len(gr3)):\n",
    "                if pd.isna(proteinGroups[gr3[j]].loc[i]) == True:\n",
    "                    proteinGroups[gr3_imp[j]].loc[i] = 2\n",
    "                else:\n",
    "                    proteinGroups[gr3_imp[j]].loc[i] = 0\n",
    "        if z == 2 or z == 3:\n",
    "            for j in range(0,len(gr3)):\n",
    "                if pd.isna(proteinGroups[gr3[j]].loc[i]) == True:\n",
    "                    proteinGroups[gr3_imp[j]].loc[i] = 1\n",
    "                else:\n",
    "                    proteinGroups[gr3_imp[j]].loc[i] = 0"
   ]
  },
  {
   "cell_type": "code",
   "execution_count": 82,
   "id": "583909d4",
   "metadata": {
    "vscode": {
     "languageId": "r"
    }
   },
   "outputs": [],
   "source": [
    "df2 = proteinGroups[imp_2] \n",
    "df2 = padua.imputation.gaussian(df2[imp_2], width=0.3, downshift=-1.8, prefix=None)[0]\n",
    "\n",
    "df = proteinGroups[imp_1] \n",
    "df = padua.imputation.gaussian(df[imp_1], width=0.3, downshift=-0.5, prefix=None)[0]"
   ]
  },
  {
   "cell_type": "code",
   "execution_count": 83,
   "id": "2e6e100a",
   "metadata": {
    "vscode": {
     "languageId": "r"
    }
   },
   "outputs": [],
   "source": [
    "for i in range(0,len(proteinGroups)):\n",
    "    for j in range(0,len(colnew)):\n",
    "        x = proteinGroups[imp[j]].loc[i]\n",
    "        if x == 0:\n",
    "            pass\n",
    "        else:\n",
    "            if x == 1:\n",
    "                proteinGroups[colnew[j]].loc[i] = df[imp_1[j]].loc[i]\n",
    "            if x == 2:\n",
    "                proteinGroups[colnew[j]].loc[i] = df2[imp_2[j]].loc[i]"
   ]
  },
  {
   "cell_type": "code",
   "execution_count": null,
   "id": "8aabe545",
   "metadata": {
    "vscode": {
     "languageId": "r"
    }
   },
   "outputs": [],
   "source": [
    "# Size\n",
    "sns.set(style='whitegrid', rc={'figure.figsize':(15,10)})\n",
    "\n",
    "# Iterate \n",
    "for columns in gr1+gr2+gr3:\n",
    "    # Subset to the samples\n",
    "    subset = proteinGroups[columns]\n",
    "    \n",
    "    # Draw the density plot\n",
    "    sns.distplot(subset, hist = False, kde = True,\n",
    "                 kde_kws = {'linewidth': 1},\n",
    "                 label = columns)\n",
    "    \n",
    "# Plot formatting\n",
    "plt.legend(prop={'size': 10}, title = 'Sample')\n",
    "plt.xlabel('Log2(LFQ)')\n",
    "plt.ylabel('Density')\n",
    "plt.savefig('Imputed_DensityPlot_Log2(LFQ).pdf')\n",
    "plt.show()"
   ]
  },
  {
   "cell_type": "code",
   "execution_count": null,
   "id": "c6a5af4c",
   "metadata": {
    "vscode": {
     "languageId": "r"
    }
   },
   "outputs": [],
   "source": [
    "pos1 = [0, 0, 0, 0, 1, 1, 1, 1, 2, 2, 2, 2]\n",
    "pos2 = [0, 1, 2, 3, 0, 1, 2, 3, 0, 1, 2, 3]\n",
    "\n",
    "# Size\n",
    "fig, axs = plt.subplots(3, 4, figsize=(10,10))\n",
    "\n",
    "for k in range(0, len(imp)):\n",
    "    axs[pos1[k], pos2[k]].hist(proteinGroups[proteinGroups[imp[k]]==0][colnew[k]], histtype='stepfilled', bins='auto', color='blue')\n",
    "    axs[pos1[k], pos2[k]].hist(proteinGroups[proteinGroups[imp[k]]==1][colnew[k]], histtype='stepfilled', bins='auto', color='orange', alpha=0.75)\n",
    "    axs[pos1[k], pos2[k]].hist(proteinGroups[proteinGroups[imp[k]]==2][colnew[k]], histtype='stepfilled', bins='auto', color='red', alpha=0.75)\n",
    "    axs[pos1[k], pos2[k]].set_title(str(colnew[k]), size=12)\n",
    "    \n",
    "    \n",
    "# Hide x labels and tick labels for top plots and y ticks for right plots.\n",
    "for ax in axs.flat:\n",
    "    ax.grid(False)\n",
    "    ax.label_outer()\n",
    "\n",
    "plt.setp(axs[-1, 0:1], xlabel='Log2(LFQ)')\n",
    "plt.setp(axs[2:3, 0], ylabel='Counts')\n",
    "plt.savefig('Imputed_Histogram.pdf')\n",
    "plt.show()"
   ]
  },
  {
   "cell_type": "code",
   "execution_count": 87,
   "id": "b91c7811",
   "metadata": {
    "vscode": {
     "languageId": "r"
    }
   },
   "outputs": [],
   "source": [
    "proteinGroups.to_csv('Processing_Imputation.csv')"
   ]
  },
  {
   "cell_type": "code",
   "execution_count": 88,
   "id": "c49d824c",
   "metadata": {
    "vscode": {
     "languageId": "r"
    }
   },
   "outputs": [],
   "source": [
    "proteinGroups = proteinGroups[allcols + ['Majority protein IDs', 'UniProt ID', 'Entry Name', 'Control', 'Group_1', 'Group_2']]"
   ]
  },
  {
   "cell_type": "markdown",
   "id": "43dfb565",
   "metadata": {},
   "source": [
    "**Log2 Fold Change**"
   ]
  },
  {
   "cell_type": "code",
   "execution_count": null,
   "id": "d8ae51ee",
   "metadata": {
    "vscode": {
     "languageId": "r"
    }
   },
   "outputs": [],
   "source": [
    "proteinGroups['M1_vs_M2a_log2FC'] = np.nan\n",
    "proteinGroups['M1_vs_M2c_log2FC'] = np.nan\n",
    "proteinGroups['M2a_vs_M2c_log2FC'] = np.nan"
   ]
  },
  {
   "cell_type": "code",
   "execution_count": null,
   "id": "18d69086",
   "metadata": {
    "vscode": {
     "languageId": "r"
    }
   },
   "outputs": [],
   "source": [
    "for i in range(0,len(proteinGroups)):\n",
    "    zero = []\n",
    "    one = []\n",
    "    for j in range(0,len(gr1)):\n",
    "        zero.append(proteinGroups[gr1[j]].loc[i])\n",
    "    for j in range(0,len(gr2)):\n",
    "        one.append(proteinGroups[gr2[j]].loc[i])\n",
    "    zero = np.mean(zero)\n",
    "    one = np.mean(one)\n",
    "    lfc = zero - one\n",
    "    proteinGroups['M1_vs_M2a_log2FC'].loc[i] = lfc\n",
    "    \n",
    "for i in range(0,len(proteinGroups)):\n",
    "    zero = []\n",
    "    one = []\n",
    "    for j in range(0,len(gr1)):\n",
    "        zero.append(proteinGroups[gr1[j]].loc[i])\n",
    "    for j in range(0,len(gr3)):\n",
    "        one.append(proteinGroups[gr3[j]].loc[i])\n",
    "    zero = np.mean(zero)\n",
    "    one = np.mean(one)\n",
    "    lfc = zero - one\n",
    "    proteinGroups['M1_vs_M2c_log2FC'].loc[i] = lfc\n",
    "\n",
    "for i in range(0,len(proteinGroups)):\n",
    "    zero = []\n",
    "    one = []\n",
    "    for j in range(0,len(gr2)):\n",
    "        zero.append(proteinGroups[gr2[j]].loc[i])\n",
    "    for j in range(0,len(gr3)):\n",
    "        one.append(proteinGroups[gr3[j]].loc[i])\n",
    "    zero = np.mean(zero)\n",
    "    one = np.mean(one)\n",
    "    lfc = zero - one\n",
    "    proteinGroups['M2a_vs_M2c_log2FC'].loc[i] = lfc\n",
    "    \n",
    "proteinGroups.to_csv('Processing_Foldchange.csv')"
   ]
  }
 ],
 "metadata": {
  "kernelspec": {
   "display_name": "R",
   "language": "R",
   "name": "ir"
  },
  "language_info": {
   "codemirror_mode": {
    "name": "ipython",
    "version": 3
   },
   "file_extension": ".py",
   "mimetype": "text/x-python",
   "name": "R",
   "nbconvert_exporter": "python",
   "pygments_lexer": "ipython3",
   "version": "3.8.8"
  }
 },
 "nbformat": 4,
 "nbformat_minor": 5
}
