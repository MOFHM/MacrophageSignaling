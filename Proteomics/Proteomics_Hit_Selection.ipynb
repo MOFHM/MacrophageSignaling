{
 "cells": [
  {
   "cell_type": "markdown",
   "id": "7eaa4f3d",
   "metadata": {},
   "source": [
    "**Import Libraries**"
   ]
  },
  {
   "cell_type": "code",
   "execution_count": null,
   "id": "74725e91",
   "metadata": {
    "vscode": {
     "languageId": "r"
    }
   },
   "outputs": [],
   "source": [
    "import pandas as pd\n",
    "pd.options.mode.chained_assignment = None  # default='warn'\n",
    "import numpy as np\n",
    "import sys\n",
    "import os\n",
    "import padua\n",
    "import matplotlib.pyplot as plt\n",
    "import seaborn as sns\n",
    "import platform\n",
    "import scipy"
   ]
  },
  {
   "cell_type": "markdown",
   "id": "1748a956",
   "metadata": {},
   "source": [
    "**Data Input**"
   ]
  },
  {
   "cell_type": "code",
   "execution_count": null,
   "id": "f88db937",
   "metadata": {
    "vscode": {
     "languageId": "r"
    }
   },
   "outputs": [],
   "source": [
    "os.chdir(dir)\n",
    "proteinGroups = pd.read_csv('Processing_Foldchange.csv').drop(columns = ['Unnamed: 0'])\n",
    "modt = pd.read_csv('\"Processing_Moderated_t-test.csv').drop(columns = ['Unnamed: 0'])"
   ]
  },
  {
   "cell_type": "code",
   "execution_count": null,
   "id": "65d52467",
   "metadata": {
    "vscode": {
     "languageId": "r"
    }
   },
   "outputs": [],
   "source": [
    "proteinGroups['M1_vs_M2a_p'] = modt['pM1vsM2a']\n",
    "proteinGroups['M1_vs_M2c_p'] = modt['pM1vsM2c']\n",
    "proteinGroups['M2a_vs_M2c_p'] = modt['pM2avsM2c']\n",
    "proteinGroups['M1_vs_M2a_FDR'] = modt['FDRM1vsM2a']\n",
    "proteinGroups['M1_vs_M2c_FDR'] = modt['FDRM1vsM2c']\n",
    "proteinGroups['M2a_vs_M2c_FDR'] = modt['FDRM2avsM2c']"
   ]
  },
  {
   "cell_type": "code",
   "execution_count": 166,
   "id": "56c1aaf4",
   "metadata": {
    "vscode": {
     "languageId": "r"
    }
   },
   "outputs": [],
   "source": [
    "proteinGroups.to_csv('Statistics.csv')"
   ]
  },
  {
   "cell_type": "markdown",
   "id": "2ddfa15e",
   "metadata": {},
   "source": [
    "**Up/- & Downregulated Entries**"
   ]
  },
  {
   "cell_type": "code",
   "execution_count": 171,
   "id": "c1ea98e3",
   "metadata": {
    "vscode": {
     "languageId": "r"
    }
   },
   "outputs": [],
   "source": [
    "M1_vs_M2a_up = list(proteinGroups[(proteinGroups['M1_vs_M2a_FDR']<0.05) & (proteinGroups['M1_vs_M2a_log2FC']>=1)]['UniProt ID'])\n",
    "M1_vs_M2a_down = list(proteinGroups[(proteinGroups['M1_vs_M2a_FDR']<0.05) & (proteinGroups['M1_vs_M2a_log2FC']<=-1)]['UniProt ID'])\n",
    "\n",
    "M1_vs_M2c_up = list(proteinGroups[(proteinGroups['M1_vs_M2c_FDR']<0.05) & (proteinGroups['M1_vs_M2c_log2FC']>=1)]['UniProt ID'])\n",
    "M1_vs_M2c_down = list(proteinGroups[(proteinGroups['M1_vs_M2c_FDR']<0.05) & (proteinGroups['M1_vs_M2c_log2FC']<=-1)]['UniProt ID'])\n",
    "\n",
    "M2a_vs_M2c_up = list(proteinGroups[(proteinGroups['M2a_vs_M2c_FDR']<0.05) & (proteinGroups['M2a_vs_M2c_log2FC']>=1)]['UniProt ID'])\n",
    "M2a_vs_M2c_down = list(proteinGroups[(proteinGroups['M2a_vs_M2c_FDR']<0.05) & (proteinGroups['M2a_vs_M2c_log2FC']<=-1)]['UniProt ID'])"
   ]
  }
 ],
 "metadata": {
  "kernelspec": {
   "display_name": "R",
   "language": "R",
   "name": "ir"
  },
  "language_info": {
   "codemirror_mode": {
    "name": "ipython",
    "version": 3
   },
   "file_extension": ".py",
   "mimetype": "text/x-python",
   "name": "R",
   "nbconvert_exporter": "python",
   "pygments_lexer": "ipython3",
   "version": "3.8.8"
  }
 },
 "nbformat": 4,
 "nbformat_minor": 5
}
